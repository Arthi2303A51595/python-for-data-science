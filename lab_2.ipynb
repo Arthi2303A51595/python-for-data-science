{
  "nbformat": 4,
  "nbformat_minor": 0,
  "metadata": {
    "colab": {
      "provenance": [],
      "include_colab_link": true
    },
    "kernelspec": {
      "name": "python3",
      "display_name": "Python 3"
    },
    "language_info": {
      "name": "python"
    }
  },
  "cells": [
    {
      "cell_type": "markdown",
      "metadata": {
        "id": "view-in-github",
        "colab_type": "text"
      },
      "source": [
        "<a href=\"https://colab.research.google.com/github/Arthi2303A51595/python-for-data-science/blob/main/lab_2.ipynb\" target=\"_parent\"><img src=\"https://colab.research.google.com/assets/colab-badge.svg\" alt=\"Open In Colab\"/></a>"
      ]
    },
    {
      "cell_type": "markdown",
      "source": [
        "question--1"
      ],
      "metadata": {
        "id": "2_wYhTVc0i8G"
      }
    },
    {
      "cell_type": "code",
      "source": [
        "import numpy as np\n",
        "\n",
        "# Create a 2D NumPy array for student marks (rows: students, columns: subjects)\n",
        "# Let's assume marks for 5 students in 3 subjects (Math, Science, English)\n",
        "marks = np.array([\n",
        "    [85, 78, 92],\n",
        "    [76, 88, 85],\n",
        "    [90, 95, 93],\n",
        "    [66, 70, 72],\n",
        "    [89, 84, 91]\n",
        "])\n",
        "\n",
        "print(\"Student Marks (Rows: Students, Columns: Subjects):\")\n",
        "print(marks)\n",
        "\n",
        "# Calculate average, minimum, and maximum marks (overall and per subject)\n",
        "avg_marks = np.mean(marks, axis=0)  # Average per subject\n",
        "min_marks = np.min(marks, axis=0)   # Minimum per subject\n",
        "max_marks = np.max(marks, axis=0)   # Maximum per subject\n",
        "\n",
        "print(\"\\nAverage Marks (per subject):\", avg_marks)\n",
        "print(\"Minimum Marks (per subject):\", min_marks)\n",
        "print(\"Maximum Marks (per subject):\", max_marks)\n",
        "\n",
        "# Use slicing to retrieve marks of specific students\n",
        "# Get marks of student 2 (index 1)\n",
        "student2_marks = marks[1]\n",
        "print(\"\\nMarks of Student 2:\", student2_marks)\n",
        "\n",
        "# Get marks of first 3 students\n",
        "first_three_students = marks[:3]\n",
        "print(\"Marks of First 3 Students:\\n\", first_three_students)\n",
        "\n",
        "# Use boolean indexing to find students scoring above 80 in any subject\n",
        "# Check for any subject > 80\n",
        "above_80 = marks > 80\n",
        "students_above_80 = np.any(above_80, axis=1)\n",
        "print(\"\\nBoolean array for marks > 80:\\n\", above_80)\n",
        "print(\"Students scoring above 80 in any subject:\", students_above_80)\n",
        "\n",
        "students_scores_above_80 = marks[students_above_80]\n",
        "print(\"Marks of Students scoring above 80 in any subject:\\n\", students_scores_above_80)\n",
        "\n",
        "# Reshape the array to view subject-wise performance (transpose it)\n",
        "subject_wise = marks.T\n",
        "print(\"\\nSubject-wise Performance (Rows: Subjects, Columns: Students):\")\n",
        "print(subject_wise)"
      ],
      "metadata": {
        "colab": {
          "base_uri": "https://localhost:8080/"
        },
        "id": "UYroj_BT0f5W",
        "outputId": "ed16f40c-0efe-428f-ea84-256c285118a4"
      },
      "execution_count": null,
      "outputs": [
        {
          "output_type": "stream",
          "name": "stdout",
          "text": [
            "Student Marks (Rows: Students, Columns: Subjects):\n",
            "[[85 78 92]\n",
            " [76 88 85]\n",
            " [90 95 93]\n",
            " [66 70 72]\n",
            " [89 84 91]]\n",
            "\n",
            "Average Marks (per subject): [81.2 83.  86.6]\n",
            "Minimum Marks (per subject): [66 70 72]\n",
            "Maximum Marks (per subject): [90 95 93]\n",
            "\n",
            "Marks of Student 2: [76 88 85]\n",
            "Marks of First 3 Students:\n",
            " [[85 78 92]\n",
            " [76 88 85]\n",
            " [90 95 93]]\n",
            "\n",
            "Boolean array for marks > 80:\n",
            " [[ True False  True]\n",
            " [False  True  True]\n",
            " [ True  True  True]\n",
            " [False False False]\n",
            " [ True  True  True]]\n",
            "Students scoring above 80 in any subject: [ True  True  True False  True]\n",
            "Marks of Students scoring above 80 in any subject:\n",
            " [[85 78 92]\n",
            " [76 88 85]\n",
            " [90 95 93]\n",
            " [89 84 91]]\n",
            "\n",
            "Subject-wise Performance (Rows: Subjects, Columns: Students):\n",
            "[[85 76 90 66 89]\n",
            " [78 88 95 70 84]\n",
            " [92 85 93 72 91]]\n"
          ]
        }
      ]
    },
    {
      "cell_type": "markdown",
      "source": [
        "question--2"
      ],
      "metadata": {
        "id": "q9MztdRJ0nC0"
      }
    },
    {
      "cell_type": "code",
      "execution_count": null,
      "metadata": {
        "colab": {
          "base_uri": "https://localhost:8080/"
        },
        "id": "LZ8xRWw-re-B",
        "outputId": "e3315f25-738f-486c-8602-f01463d986bb"
      },
      "outputs": [
        {
          "output_type": "stream",
          "name": "stdout",
          "text": [
            "Initial Employee DataFrame:\n",
            "       Name   ID Department  Salary\n",
            "0    Alice  101         HR   48000\n",
            "1      Bob  102         IT   52000\n",
            "2  Charlie  103    Finance   60000\n",
            "3    Diana  104  Marketing   45000\n",
            "4    Ethan  105         IT   75000\n",
            "\n",
            "Employees with Salary > 50,000:\n",
            "       Name   ID Department  Salary\n",
            "1      Bob  102         IT   52000\n",
            "2  Charlie  103    Finance   60000\n",
            "4    Ethan  105         IT   75000\n",
            "\n",
            "DataFrame Sorted by Salary (Descending):\n",
            "       Name   ID Department  Salary\n",
            "4    Ethan  105         IT   75000\n",
            "2  Charlie  103    Finance   60000\n",
            "1      Bob  102         IT   52000\n",
            "0    Alice  101         HR   48000\n",
            "3    Diana  104  Marketing   45000\n",
            "\n",
            "DataFrame with Bonus Column:\n",
            "       Name   ID Department  Salary   Bonus\n",
            "0    Alice  101         HR   48000  4800.0\n",
            "1      Bob  102         IT   52000  5200.0\n",
            "2  Charlie  103    Finance   60000  6000.0\n",
            "3    Diana  104  Marketing   45000  4500.0\n",
            "4    Ethan  105         IT   75000  7500.0\n",
            "\n",
            "Total Salary Expense Including Bonuses: $308,000.00\n",
            "\n",
            "DataFrame saved to CSV file: employee_salary_data.csv\n"
          ]
        }
      ],
      "source": [
        "import pandas as pd\n",
        "data = {\n",
        "    'Name': ['Alice', 'Bob', 'Charlie', 'Diana', 'Ethan'],\n",
        "    'ID': [101, 102, 103, 104, 105],\n",
        "    'Department': ['HR', 'IT', 'Finance', 'Marketing', 'IT'],\n",
        "    'Salary': [48000, 52000, 60000, 45000, 75000]\n",
        "}\n",
        "df = pd.DataFrame(data)\n",
        "print(\"Initial Employee DataFrame:\\n\", df)\n",
        "high_earners = df[df['Salary'] > 50000]\n",
        "print(\"\\nEmployees with Salary > 50,000:\\n\", high_earners)\n",
        "sorted_df = df.sort_values(by='Salary', ascending=False)\n",
        "print(\"\\nDataFrame Sorted by Salary (Descending):\\n\", sorted_df)\n",
        "df['Bonus'] = df['Salary'] * 0.10\n",
        "print(\"\\nDataFrame with Bonus Column:\\n\", df)\n",
        "df['Total_Compensation'] = df['Salary'] + df['Bonus']\n",
        "total_expense = df['Total_Compensation'].sum()\n",
        "print(\"\\nTotal Salary Expense Including Bonuses: ${:,.2f}\".format(total_expense))\n",
        "csv_filename = \"employee_salary_data.csv\"\n",
        "df.to_csv(csv_filename, index=False)\n",
        "print(f\"\\nDataFrame saved to CSV file: {csv_filename}\")"
      ]
    }
  ]
}