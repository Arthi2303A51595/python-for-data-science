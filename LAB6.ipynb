{
  "nbformat": 4,
  "nbformat_minor": 0,
  "metadata": {
    "colab": {
      "provenance": [],
      "include_colab_link": true
    },
    "kernelspec": {
      "name": "python3",
      "display_name": "Python 3"
    },
    "language_info": {
      "name": "python"
    }
  },
  "cells": [
    {
      "cell_type": "markdown",
      "metadata": {
        "id": "view-in-github",
        "colab_type": "text"
      },
      "source": [
        "<a href=\"https://colab.research.google.com/github/Arthi2303A51595/python-for-data-science/blob/main/LAB6.ipynb\" target=\"_parent\"><img src=\"https://colab.research.google.com/assets/colab-badge.svg\" alt=\"Open In Colab\"/></a>"
      ]
    },
    {
      "cell_type": "code",
      "execution_count": null,
      "metadata": {
        "colab": {
          "base_uri": "https://localhost:8080/"
        },
        "id": "Pk9PVfqqVhv4",
        "outputId": "5bb4781f-9cb5-48f1-ea82-3ba15022663f"
      },
      "outputs": [
        {
          "output_type": "stream",
          "name": "stdout",
          "text": [
            "Original Dataset:\n",
            "   TransactionID        Date Customer  Amount\n",
            "0            101  2025-09-01  madhuri     250\n",
            "1            102  2025-09-01   varsha     300\n",
            "2            103  2025-09-02   nithya     450\n",
            "3            104  2025-09-03  nirnaya     500\n",
            "4            102  2025-09-01   varsha     300\n",
            "5            105  2025-09-04   karuna     600\n",
            "6            103  2025-09-02   nithya     450\n",
            "7            106  2025-09-05   varsha     700\n"
          ]
        }
      ],
      "source": [
        "import pandas as pd\n",
        "\n",
        "# Sample sales data with duplicate entries\n",
        "data = {\n",
        "    'TransactionID': [101, 102, 103, 104, 102, 105, 103, 106],\n",
        "    'Date': ['2025-09-01', '2025-09-01', '2025-09-02', '2025-09-03', '2025-09-01', '2025-09-04', '2025-09-02', '2025-09-05'],\n",
        "    'Customer': ['madhuri', 'varsha', 'nithya', 'nirnaya', 'varsha', 'karuna', 'nithya', 'varsha'],\n",
        "    'Amount': [250, 300, 450, 500, 300, 600, 450, 700]\n",
        "}\n",
        "\n",
        "df = pd.DataFrame(data)\n",
        "print(\"Original Dataset:\")\n",
        "print(df)\n"
      ]
    },
    {
      "cell_type": "code",
      "source": [
        "# Find duplicate rows based on all columns\n",
        "duplicates = df.duplicated(keep=False)\n",
        "print(\"\\nDuplicate Rows:\")\n",
        "print(df[duplicates])\n"
      ],
      "metadata": {
        "colab": {
          "base_uri": "https://localhost:8080/"
        },
        "id": "x-4MZ2w1WMvv",
        "outputId": "552a0068-2e0e-4092-8cd9-b9ea4aeed307"
      },
      "execution_count": null,
      "outputs": [
        {
          "output_type": "stream",
          "name": "stdout",
          "text": [
            "\n",
            "Duplicate Rows:\n",
            "   TransactionID        Date Customer  Amount\n",
            "1            102  2025-09-01   varsha     300\n",
            "2            103  2025-09-02   nithya     450\n",
            "4            102  2025-09-01   varsha     300\n",
            "6            103  2025-09-02   nithya     450\n"
          ]
        }
      ]
    },
    {
      "cell_type": "code",
      "source": [
        "# Remove duplicate rows, keeping the first occurrence\n",
        "df_cleaned = df.drop_duplicates()\n",
        "\n",
        "print(\"\\nCleaned Dataset:\")\n",
        "print(df_cleaned)\n",
        "\n",
        "# Count of duplicates before and after\n",
        "print(\"\\nNumber of rows before cleaning:\", len(df))\n",
        "print(\"Number of rows after cleaning:\", len(df_cleaned))\n"
      ],
      "metadata": {
        "colab": {
          "base_uri": "https://localhost:8080/"
        },
        "id": "wsc1aw9JWPqk",
        "outputId": "288e9fb1-0f9a-4ed1-e215-a8ba9db9bd3c"
      },
      "execution_count": null,
      "outputs": [
        {
          "output_type": "stream",
          "name": "stdout",
          "text": [
            "\n",
            "Cleaned Dataset:\n",
            "   TransactionID        Date Customer  Amount\n",
            "0            101  2025-09-01  madhuri     250\n",
            "1            102  2025-09-01   varsha     300\n",
            "2            103  2025-09-02   nithya     450\n",
            "3            104  2025-09-03  nirnaya     500\n",
            "5            105  2025-09-04   karuna     600\n",
            "7            106  2025-09-05   varsha     700\n",
            "\n",
            "Number of rows before cleaning: 8\n",
            "Number of rows after cleaning: 6\n"
          ]
        }
      ]
    },
    {
      "cell_type": "markdown",
      "source": [
        "Create a Sample Employee Dataset with Incorrect Data Types\n"
      ],
      "metadata": {
        "id": "TKVbAztTWeuj"
      }
    },
    {
      "cell_type": "code",
      "source": [
        "import pandas as pd\n",
        "\n",
        "# Sample employee data with Salary as string and Joining_Date as string\n",
        "data = {\n",
        "    'EmployeeID': [1, 2, 3, 4],\n",
        "    'Name': ['Alice', 'Bob', 'Charlie', 'David'],\n",
        "    'Salary': ['50000', '60000', '55000', '70000'],  # Salary stored as string\n",
        "    'Joining_Date': ['2020-01-15', '2019-06-30', '2021-03-10', '2018-11-01']  # Date stored as string\n",
        "}\n",
        "\n",
        "df = pd.DataFrame(data)\n",
        "\n",
        "print(\"Original Dataset:\")\n",
        "print(df)\n",
        "print(\"\\nData types before conversion:\")\n",
        "print(df.dtypes)\n"
      ],
      "metadata": {
        "colab": {
          "base_uri": "https://localhost:8080/"
        },
        "id": "qvgumRjJWf6o",
        "outputId": "7a0f7ed5-3792-41fc-b1ed-f3d9f783193c"
      },
      "execution_count": null,
      "outputs": [
        {
          "output_type": "stream",
          "name": "stdout",
          "text": [
            "Original Dataset:\n",
            "   EmployeeID     Name Salary Joining_Date\n",
            "0           1    Alice  50000   2020-01-15\n",
            "1           2      Bob  60000   2019-06-30\n",
            "2           3  Charlie  55000   2021-03-10\n",
            "3           4    David  70000   2018-11-01\n",
            "\n",
            "Data types before conversion:\n",
            "EmployeeID       int64\n",
            "Name            object\n",
            "Salary          object\n",
            "Joining_Date    object\n",
            "dtype: object\n"
          ]
        }
      ]
    },
    {
      "cell_type": "code",
      "source": [
        "# Convert Salary from string to numeric\n",
        "df['Salary'] = pd.to_numeric(df['Salary'])\n",
        "\n",
        "print(\"\\nDataset after converting Salary to numeric:\")\n",
        "print(df)\n",
        "print(\"\\nData types after converting Salary:\")\n",
        "print(df.dtypes)\n"
      ],
      "metadata": {
        "colab": {
          "base_uri": "https://localhost:8080/"
        },
        "id": "vED3oCVwWiui",
        "outputId": "e8368e27-ce60-41d3-9e66-a32f1cc2677e"
      },
      "execution_count": null,
      "outputs": [
        {
          "output_type": "stream",
          "name": "stdout",
          "text": [
            "\n",
            "Dataset after converting Salary to numeric:\n",
            "   EmployeeID     Name  Salary Joining_Date\n",
            "0           1    Alice   50000   2020-01-15\n",
            "1           2      Bob   60000   2019-06-30\n",
            "2           3  Charlie   55000   2021-03-10\n",
            "3           4    David   70000   2018-11-01\n",
            "\n",
            "Data types after converting Salary:\n",
            "EmployeeID       int64\n",
            "Name            object\n",
            "Salary           int64\n",
            "Joining_Date    object\n",
            "dtype: object\n"
          ]
        }
      ]
    },
    {
      "cell_type": "code",
      "source": [
        "# Convert Joining_Date from string to datetime\n",
        "df['Joining_Date'] = pd.to_datetime(df['Joining_Date'])\n",
        "\n",
        "print(\"\\nDataset after converting Joining_Date to datetime:\")\n",
        "print(df)\n",
        "print(\"\\nData types after converting Joining_Date:\")\n",
        "print(df.dtypes)\n"
      ],
      "metadata": {
        "colab": {
          "base_uri": "https://localhost:8080/"
        },
        "id": "XiHopfd3WlKB",
        "outputId": "b52e0d64-1524-4142-c690-be9d46c02208"
      },
      "execution_count": null,
      "outputs": [
        {
          "output_type": "stream",
          "name": "stdout",
          "text": [
            "\n",
            "Dataset after converting Joining_Date to datetime:\n",
            "   EmployeeID     Name  Salary Joining_Date\n",
            "0           1    Alice   50000   2020-01-15\n",
            "1           2      Bob   60000   2019-06-30\n",
            "2           3  Charlie   55000   2021-03-10\n",
            "3           4    David   70000   2018-11-01\n",
            "\n",
            "Data types after converting Joining_Date:\n",
            "EmployeeID               int64\n",
            "Name                    object\n",
            "Salary                   int64\n",
            "Joining_Date    datetime64[ns]\n",
            "dtype: object\n"
          ]
        }
      ]
    }
  ]
}