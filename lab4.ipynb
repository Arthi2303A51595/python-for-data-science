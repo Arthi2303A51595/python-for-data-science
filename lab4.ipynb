{
  "nbformat": 4,
  "nbformat_minor": 0,
  "metadata": {
    "colab": {
      "provenance": [],
      "include_colab_link": true
    },
    "kernelspec": {
      "name": "python3",
      "display_name": "Python 3"
    },
    "language_info": {
      "name": "python"
    }
  },
  "cells": [
    {
      "cell_type": "markdown",
      "metadata": {
        "id": "view-in-github",
        "colab_type": "text"
      },
      "source": [
        "<a href=\"https://colab.research.google.com/github/Arthi2303A51595/python-for-data-science/blob/main/lab4.ipynb\" target=\"_parent\"><img src=\"https://colab.research.google.com/assets/colab-badge.svg\" alt=\"Open In Colab\"/></a>"
      ]
    },
    {
      "cell_type": "code",
      "execution_count": null,
      "metadata": {
        "colab": {
          "base_uri": "https://localhost:8080/"
        },
        "id": "4N5leJMTvsVy",
        "outputId": "06ef4677-a7be-490f-fd4d-69d028e0fc47"
      },
      "outputs": [
        {
          "output_type": "stream",
          "name": "stdout",
          "text": [
            "   Student_ID   Name       Math    Science    English\n",
            "0           1   Asha  80.000000  85.000000  78.000000\n",
            "1           2   Ravi  82.666667  88.000000  82.000000\n",
            "2           3   Neha  78.000000  88.333333  79.000000\n",
            "3           4  Kiran  90.000000  92.000000  79.666667\n"
          ]
        }
      ],
      "source": [
        "import pandas as pd\n",
        "data = {\n",
        "    'Student_ID': [1, 2, 3, 4],\n",
        "    'Name': ['Asha', 'Ravi', 'Neha', 'Kiran'],\n",
        "    'Math': [80, None, 78, 90],\n",
        "    'Science': [85, 88, None, 92],\n",
        "    'English': [78, 82, 79, None]\n",
        "}\n",
        "df = pd.DataFrame(data)\n",
        "df[['Math', 'Science', 'English']] = df[['Math', 'Science', 'English']].apply(lambda x: x.fillna(x.mean()))\n",
        "top = df[(df['Math'] > 75) & (df['Science'] > 75) & (df['English'] > 75)]\n",
        "print(top[['Student_ID', 'Name', 'Math', 'Science', 'English']])\n"
      ]
    },
    {
      "cell_type": "code",
      "source": [
        "import pandas as pd\n",
        "data = {\n",
        "    'Patient_ID': [101, 102, 103, 104],\n",
        "    'Name': ['Meena', 'Raj', 'Latha', 'Anita'],\n",
        "    'Age': [65, None, 52, None],\n",
        "    'Gender': ['Female', 'Male', 'Female', 'Female'],\n",
        "    'Diagnosis': ['Diabetes', 'Hypertension', 'Diabetes', 'Diabetes'],\n",
        "    'Admission_Date': ['2023-01-10', '2023-02-15', '2023-03-20', '2023-04-05']\n",
        "}\n",
        "\n",
        "df = pd.DataFrame(data)\n",
        "df['Age'] = df['Age'].fillna(df['Age'].median())\n",
        "filtered = df[(df['Gender'] == 'Female') & (df['Age'] > 50) & (df['Diagnosis'] == 'Diabetes')]\n",
        "print(filtered[['Patient_ID', 'Name', 'Age', 'Gender', 'Diagnosis']])\n"
      ],
      "metadata": {
        "colab": {
          "base_uri": "https://localhost:8080/"
        },
        "id": "IUFZjjYX2mq5",
        "outputId": "ddbd35d2-a8a8-4c13-c77d-6a13d3b045b3"
      },
      "execution_count": null,
      "outputs": [
        {
          "output_type": "stream",
          "name": "stdout",
          "text": [
            "   Patient_ID   Name   Age  Gender Diagnosis\n",
            "0         101  Meena  65.0  Female  Diabetes\n",
            "2         103  Latha  52.0  Female  Diabetes\n",
            "3         104  Anita  58.5  Female  Diabetes\n"
          ]
        }
      ]
    }
  ]
}